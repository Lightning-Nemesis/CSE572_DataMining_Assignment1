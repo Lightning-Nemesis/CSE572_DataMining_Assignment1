{
  "cells": [
    {
      "cell_type": "markdown",
      "metadata": {
        "id": "view-in-github",
        "colab_type": "text"
      },
      "source": [
        "<a href=\"https://colab.research.google.com/github/Lightning-Nemesis/CSE572_DataMining_Assignment1/blob/main/k_means_final_hw3.ipynb\" target=\"_parent\"><img src=\"https://colab.research.google.com/assets/colab-badge.svg\" alt=\"Open In Colab\"/></a>"
      ]
    },
    {
      "cell_type": "code",
      "source": [
        "from google.colab import drive\n",
        "drive.mount('/content/drive')\n"
      ],
      "metadata": {
        "colab": {
          "base_uri": "https://localhost:8080/"
        },
        "id": "EHYa7OTsq8hr",
        "outputId": "3887aa66-3850-4981-f092-82fba1284d5c"
      },
      "id": "EHYa7OTsq8hr",
      "execution_count": 122,
      "outputs": [
        {
          "output_type": "stream",
          "name": "stdout",
          "text": [
            "Mounted at /content/drive\n"
          ]
        }
      ]
    },
    {
      "cell_type": "code",
      "source": [
        "auth"
      ],
      "metadata": {
        "id": "uhY4Izphrtpj"
      },
      "id": "uhY4Izphrtpj",
      "execution_count": null,
      "outputs": []
    },
    {
      "cell_type": "code",
      "execution_count": 97,
      "id": "fd02fd71-b853-4637-b590-690609654d3d",
      "metadata": {
        "id": "fd02fd71-b853-4637-b590-690609654d3d"
      },
      "outputs": [],
      "source": [
        "import math\n",
        "import random\n",
        "import time\n",
        "from sklearn.metrics import *\n",
        "import numpy as  np\n",
        "import pandas as pd"
      ]
    },
    {
      "cell_type": "code",
      "source": [
        "df = pd.read_csv('/content/sample_data/data.csv',header=None)\n",
        "label = pd.read_csv('/content/sample_data/label.csv', header= None)\n",
        "df = pd.concat([df,label], axis=1)"
      ],
      "metadata": {
        "id": "60tJJvnmljJI"
      },
      "id": "60tJJvnmljJI",
      "execution_count": 98,
      "outputs": []
    },
    {
      "cell_type": "code",
      "source": [
        "df.head()"
      ],
      "metadata": {
        "colab": {
          "base_uri": "https://localhost:8080/",
          "height": 236
        },
        "id": "qx3yrNVUpEL1",
        "outputId": "d06d4791-69ff-4241-db82-0b58a25cb7ad"
      },
      "id": "qx3yrNVUpEL1",
      "execution_count": 99,
      "outputs": [
        {
          "output_type": "execute_result",
          "data": {
            "text/plain": [
              "   0    1    2    3    4    5    6    7    8    9    ...  775  776  777  778  \\\n",
              "0    0    0    0    0    0    0    0    0    0    0  ...    0    0    0    0   \n",
              "1    0    0    0    0    0    0    0    0    0    0  ...    0    0    0    0   \n",
              "2    0    0    0    0    0    0    0    0    0    0  ...    0    0    0    0   \n",
              "3    0    0    0    0    0    0    0    0    0    0  ...    0    0    0    0   \n",
              "4    0    0    0    0    0    0    0    0    0    0  ...    0    0    0    0   \n",
              "\n",
              "   779  780  781  782  783  0    \n",
              "0    0    0    0    0    0    7  \n",
              "1    0    0    0    0    0    2  \n",
              "2    0    0    0    0    0    1  \n",
              "3    0    0    0    0    0    0  \n",
              "4    0    0    0    0    0    4  \n",
              "\n",
              "[5 rows x 785 columns]"
            ],
            "text/html": [
              "\n",
              "  <div id=\"df-319a8fbc-3d98-4022-9f30-32802fef5645\" class=\"colab-df-container\">\n",
              "    <div>\n",
              "<style scoped>\n",
              "    .dataframe tbody tr th:only-of-type {\n",
              "        vertical-align: middle;\n",
              "    }\n",
              "\n",
              "    .dataframe tbody tr th {\n",
              "        vertical-align: top;\n",
              "    }\n",
              "\n",
              "    .dataframe thead th {\n",
              "        text-align: right;\n",
              "    }\n",
              "</style>\n",
              "<table border=\"1\" class=\"dataframe\">\n",
              "  <thead>\n",
              "    <tr style=\"text-align: right;\">\n",
              "      <th></th>\n",
              "      <th>0</th>\n",
              "      <th>1</th>\n",
              "      <th>2</th>\n",
              "      <th>3</th>\n",
              "      <th>4</th>\n",
              "      <th>5</th>\n",
              "      <th>6</th>\n",
              "      <th>7</th>\n",
              "      <th>8</th>\n",
              "      <th>9</th>\n",
              "      <th>...</th>\n",
              "      <th>775</th>\n",
              "      <th>776</th>\n",
              "      <th>777</th>\n",
              "      <th>778</th>\n",
              "      <th>779</th>\n",
              "      <th>780</th>\n",
              "      <th>781</th>\n",
              "      <th>782</th>\n",
              "      <th>783</th>\n",
              "      <th>0</th>\n",
              "    </tr>\n",
              "  </thead>\n",
              "  <tbody>\n",
              "    <tr>\n",
              "      <th>0</th>\n",
              "      <td>0</td>\n",
              "      <td>0</td>\n",
              "      <td>0</td>\n",
              "      <td>0</td>\n",
              "      <td>0</td>\n",
              "      <td>0</td>\n",
              "      <td>0</td>\n",
              "      <td>0</td>\n",
              "      <td>0</td>\n",
              "      <td>0</td>\n",
              "      <td>...</td>\n",
              "      <td>0</td>\n",
              "      <td>0</td>\n",
              "      <td>0</td>\n",
              "      <td>0</td>\n",
              "      <td>0</td>\n",
              "      <td>0</td>\n",
              "      <td>0</td>\n",
              "      <td>0</td>\n",
              "      <td>0</td>\n",
              "      <td>7</td>\n",
              "    </tr>\n",
              "    <tr>\n",
              "      <th>1</th>\n",
              "      <td>0</td>\n",
              "      <td>0</td>\n",
              "      <td>0</td>\n",
              "      <td>0</td>\n",
              "      <td>0</td>\n",
              "      <td>0</td>\n",
              "      <td>0</td>\n",
              "      <td>0</td>\n",
              "      <td>0</td>\n",
              "      <td>0</td>\n",
              "      <td>...</td>\n",
              "      <td>0</td>\n",
              "      <td>0</td>\n",
              "      <td>0</td>\n",
              "      <td>0</td>\n",
              "      <td>0</td>\n",
              "      <td>0</td>\n",
              "      <td>0</td>\n",
              "      <td>0</td>\n",
              "      <td>0</td>\n",
              "      <td>2</td>\n",
              "    </tr>\n",
              "    <tr>\n",
              "      <th>2</th>\n",
              "      <td>0</td>\n",
              "      <td>0</td>\n",
              "      <td>0</td>\n",
              "      <td>0</td>\n",
              "      <td>0</td>\n",
              "      <td>0</td>\n",
              "      <td>0</td>\n",
              "      <td>0</td>\n",
              "      <td>0</td>\n",
              "      <td>0</td>\n",
              "      <td>...</td>\n",
              "      <td>0</td>\n",
              "      <td>0</td>\n",
              "      <td>0</td>\n",
              "      <td>0</td>\n",
              "      <td>0</td>\n",
              "      <td>0</td>\n",
              "      <td>0</td>\n",
              "      <td>0</td>\n",
              "      <td>0</td>\n",
              "      <td>1</td>\n",
              "    </tr>\n",
              "    <tr>\n",
              "      <th>3</th>\n",
              "      <td>0</td>\n",
              "      <td>0</td>\n",
              "      <td>0</td>\n",
              "      <td>0</td>\n",
              "      <td>0</td>\n",
              "      <td>0</td>\n",
              "      <td>0</td>\n",
              "      <td>0</td>\n",
              "      <td>0</td>\n",
              "      <td>0</td>\n",
              "      <td>...</td>\n",
              "      <td>0</td>\n",
              "      <td>0</td>\n",
              "      <td>0</td>\n",
              "      <td>0</td>\n",
              "      <td>0</td>\n",
              "      <td>0</td>\n",
              "      <td>0</td>\n",
              "      <td>0</td>\n",
              "      <td>0</td>\n",
              "      <td>0</td>\n",
              "    </tr>\n",
              "    <tr>\n",
              "      <th>4</th>\n",
              "      <td>0</td>\n",
              "      <td>0</td>\n",
              "      <td>0</td>\n",
              "      <td>0</td>\n",
              "      <td>0</td>\n",
              "      <td>0</td>\n",
              "      <td>0</td>\n",
              "      <td>0</td>\n",
              "      <td>0</td>\n",
              "      <td>0</td>\n",
              "      <td>...</td>\n",
              "      <td>0</td>\n",
              "      <td>0</td>\n",
              "      <td>0</td>\n",
              "      <td>0</td>\n",
              "      <td>0</td>\n",
              "      <td>0</td>\n",
              "      <td>0</td>\n",
              "      <td>0</td>\n",
              "      <td>0</td>\n",
              "      <td>4</td>\n",
              "    </tr>\n",
              "  </tbody>\n",
              "</table>\n",
              "<p>5 rows × 785 columns</p>\n",
              "</div>\n",
              "    <div class=\"colab-df-buttons\">\n",
              "\n",
              "  <div class=\"colab-df-container\">\n",
              "    <button class=\"colab-df-convert\" onclick=\"convertToInteractive('df-319a8fbc-3d98-4022-9f30-32802fef5645')\"\n",
              "            title=\"Convert this dataframe to an interactive table.\"\n",
              "            style=\"display:none;\">\n",
              "\n",
              "  <svg xmlns=\"http://www.w3.org/2000/svg\" height=\"24px\" viewBox=\"0 -960 960 960\">\n",
              "    <path d=\"M120-120v-720h720v720H120Zm60-500h600v-160H180v160Zm220 220h160v-160H400v160Zm0 220h160v-160H400v160ZM180-400h160v-160H180v160Zm440 0h160v-160H620v160ZM180-180h160v-160H180v160Zm440 0h160v-160H620v160Z\"/>\n",
              "  </svg>\n",
              "    </button>\n",
              "\n",
              "  <style>\n",
              "    .colab-df-container {\n",
              "      display:flex;\n",
              "      gap: 12px;\n",
              "    }\n",
              "\n",
              "    .colab-df-convert {\n",
              "      background-color: #E8F0FE;\n",
              "      border: none;\n",
              "      border-radius: 50%;\n",
              "      cursor: pointer;\n",
              "      display: none;\n",
              "      fill: #1967D2;\n",
              "      height: 32px;\n",
              "      padding: 0 0 0 0;\n",
              "      width: 32px;\n",
              "    }\n",
              "\n",
              "    .colab-df-convert:hover {\n",
              "      background-color: #E2EBFA;\n",
              "      box-shadow: 0px 1px 2px rgba(60, 64, 67, 0.3), 0px 1px 3px 1px rgba(60, 64, 67, 0.15);\n",
              "      fill: #174EA6;\n",
              "    }\n",
              "\n",
              "    .colab-df-buttons div {\n",
              "      margin-bottom: 4px;\n",
              "    }\n",
              "\n",
              "    [theme=dark] .colab-df-convert {\n",
              "      background-color: #3B4455;\n",
              "      fill: #D2E3FC;\n",
              "    }\n",
              "\n",
              "    [theme=dark] .colab-df-convert:hover {\n",
              "      background-color: #434B5C;\n",
              "      box-shadow: 0px 1px 3px 1px rgba(0, 0, 0, 0.15);\n",
              "      filter: drop-shadow(0px 1px 2px rgba(0, 0, 0, 0.3));\n",
              "      fill: #FFFFFF;\n",
              "    }\n",
              "  </style>\n",
              "\n",
              "    <script>\n",
              "      const buttonEl =\n",
              "        document.querySelector('#df-319a8fbc-3d98-4022-9f30-32802fef5645 button.colab-df-convert');\n",
              "      buttonEl.style.display =\n",
              "        google.colab.kernel.accessAllowed ? 'block' : 'none';\n",
              "\n",
              "      async function convertToInteractive(key) {\n",
              "        const element = document.querySelector('#df-319a8fbc-3d98-4022-9f30-32802fef5645');\n",
              "        const dataTable =\n",
              "          await google.colab.kernel.invokeFunction('convertToInteractive',\n",
              "                                                    [key], {});\n",
              "        if (!dataTable) return;\n",
              "\n",
              "        const docLinkHtml = 'Like what you see? Visit the ' +\n",
              "          '<a target=\"_blank\" href=https://colab.research.google.com/notebooks/data_table.ipynb>data table notebook</a>'\n",
              "          + ' to learn more about interactive tables.';\n",
              "        element.innerHTML = '';\n",
              "        dataTable['output_type'] = 'display_data';\n",
              "        await google.colab.output.renderOutput(dataTable, element);\n",
              "        const docLink = document.createElement('div');\n",
              "        docLink.innerHTML = docLinkHtml;\n",
              "        element.appendChild(docLink);\n",
              "      }\n",
              "    </script>\n",
              "  </div>\n",
              "\n",
              "\n",
              "<div id=\"df-4b56effd-df38-4f49-9bb8-ef59de640d0d\">\n",
              "  <button class=\"colab-df-quickchart\" onclick=\"quickchart('df-4b56effd-df38-4f49-9bb8-ef59de640d0d')\"\n",
              "            title=\"Suggest charts\"\n",
              "            style=\"display:none;\">\n",
              "\n",
              "<svg xmlns=\"http://www.w3.org/2000/svg\" height=\"24px\"viewBox=\"0 0 24 24\"\n",
              "     width=\"24px\">\n",
              "    <g>\n",
              "        <path d=\"M19 3H5c-1.1 0-2 .9-2 2v14c0 1.1.9 2 2 2h14c1.1 0 2-.9 2-2V5c0-1.1-.9-2-2-2zM9 17H7v-7h2v7zm4 0h-2V7h2v10zm4 0h-2v-4h2v4z\"/>\n",
              "    </g>\n",
              "</svg>\n",
              "  </button>\n",
              "\n",
              "<style>\n",
              "  .colab-df-quickchart {\n",
              "      --bg-color: #E8F0FE;\n",
              "      --fill-color: #1967D2;\n",
              "      --hover-bg-color: #E2EBFA;\n",
              "      --hover-fill-color: #174EA6;\n",
              "      --disabled-fill-color: #AAA;\n",
              "      --disabled-bg-color: #DDD;\n",
              "  }\n",
              "\n",
              "  [theme=dark] .colab-df-quickchart {\n",
              "      --bg-color: #3B4455;\n",
              "      --fill-color: #D2E3FC;\n",
              "      --hover-bg-color: #434B5C;\n",
              "      --hover-fill-color: #FFFFFF;\n",
              "      --disabled-bg-color: #3B4455;\n",
              "      --disabled-fill-color: #666;\n",
              "  }\n",
              "\n",
              "  .colab-df-quickchart {\n",
              "    background-color: var(--bg-color);\n",
              "    border: none;\n",
              "    border-radius: 50%;\n",
              "    cursor: pointer;\n",
              "    display: none;\n",
              "    fill: var(--fill-color);\n",
              "    height: 32px;\n",
              "    padding: 0;\n",
              "    width: 32px;\n",
              "  }\n",
              "\n",
              "  .colab-df-quickchart:hover {\n",
              "    background-color: var(--hover-bg-color);\n",
              "    box-shadow: 0 1px 2px rgba(60, 64, 67, 0.3), 0 1px 3px 1px rgba(60, 64, 67, 0.15);\n",
              "    fill: var(--button-hover-fill-color);\n",
              "  }\n",
              "\n",
              "  .colab-df-quickchart-complete:disabled,\n",
              "  .colab-df-quickchart-complete:disabled:hover {\n",
              "    background-color: var(--disabled-bg-color);\n",
              "    fill: var(--disabled-fill-color);\n",
              "    box-shadow: none;\n",
              "  }\n",
              "\n",
              "  .colab-df-spinner {\n",
              "    border: 2px solid var(--fill-color);\n",
              "    border-color: transparent;\n",
              "    border-bottom-color: var(--fill-color);\n",
              "    animation:\n",
              "      spin 1s steps(1) infinite;\n",
              "  }\n",
              "\n",
              "  @keyframes spin {\n",
              "    0% {\n",
              "      border-color: transparent;\n",
              "      border-bottom-color: var(--fill-color);\n",
              "      border-left-color: var(--fill-color);\n",
              "    }\n",
              "    20% {\n",
              "      border-color: transparent;\n",
              "      border-left-color: var(--fill-color);\n",
              "      border-top-color: var(--fill-color);\n",
              "    }\n",
              "    30% {\n",
              "      border-color: transparent;\n",
              "      border-left-color: var(--fill-color);\n",
              "      border-top-color: var(--fill-color);\n",
              "      border-right-color: var(--fill-color);\n",
              "    }\n",
              "    40% {\n",
              "      border-color: transparent;\n",
              "      border-right-color: var(--fill-color);\n",
              "      border-top-color: var(--fill-color);\n",
              "    }\n",
              "    60% {\n",
              "      border-color: transparent;\n",
              "      border-right-color: var(--fill-color);\n",
              "    }\n",
              "    80% {\n",
              "      border-color: transparent;\n",
              "      border-right-color: var(--fill-color);\n",
              "      border-bottom-color: var(--fill-color);\n",
              "    }\n",
              "    90% {\n",
              "      border-color: transparent;\n",
              "      border-bottom-color: var(--fill-color);\n",
              "    }\n",
              "  }\n",
              "</style>\n",
              "\n",
              "  <script>\n",
              "    async function quickchart(key) {\n",
              "      const quickchartButtonEl =\n",
              "        document.querySelector('#' + key + ' button');\n",
              "      quickchartButtonEl.disabled = true;  // To prevent multiple clicks.\n",
              "      quickchartButtonEl.classList.add('colab-df-spinner');\n",
              "      try {\n",
              "        const charts = await google.colab.kernel.invokeFunction(\n",
              "            'suggestCharts', [key], {});\n",
              "      } catch (error) {\n",
              "        console.error('Error during call to suggestCharts:', error);\n",
              "      }\n",
              "      quickchartButtonEl.classList.remove('colab-df-spinner');\n",
              "      quickchartButtonEl.classList.add('colab-df-quickchart-complete');\n",
              "    }\n",
              "    (() => {\n",
              "      let quickchartButtonEl =\n",
              "        document.querySelector('#df-4b56effd-df38-4f49-9bb8-ef59de640d0d button');\n",
              "      quickchartButtonEl.style.display =\n",
              "        google.colab.kernel.accessAllowed ? 'block' : 'none';\n",
              "    })();\n",
              "  </script>\n",
              "</div>\n",
              "\n",
              "    </div>\n",
              "  </div>\n"
            ],
            "application/vnd.google.colaboratory.intrinsic+json": {
              "type": "dataframe",
              "variable_name": "df"
            }
          },
          "metadata": {},
          "execution_count": 99
        }
      ]
    },
    {
      "cell_type": "code",
      "source": [
        "df.shape"
      ],
      "metadata": {
        "colab": {
          "base_uri": "https://localhost:8080/"
        },
        "id": "E8Ow6bHKmZGf",
        "outputId": "741bd764-fdcf-4f72-d79a-18819acc6625"
      },
      "id": "E8Ow6bHKmZGf",
      "execution_count": 100,
      "outputs": [
        {
          "output_type": "execute_result",
          "data": {
            "text/plain": [
              "(10000, 785)"
            ]
          },
          "metadata": {},
          "execution_count": 100
        }
      ]
    },
    {
      "cell_type": "code",
      "source": [
        "def euclidean_distance(a, b):\n",
        "    return np.sqrt(np.sum((a - b) ** 2))\n",
        "def cosine_distance(a, b):\n",
        "    return np.dot(a, b) / (np.linalg.norm(a) * np.linalg.norm(b))\n",
        "def jaccard_distance(a, b):\n",
        "    return 1 - np.sum(np.minimum(a, b)) / np.sum(np.maximum(a, b))"
      ],
      "metadata": {
        "id": "VBPNuzk5msU2"
      },
      "id": "VBPNuzk5msU2",
      "execution_count": 101,
      "outputs": []
    },
    {
      "cell_type": "code",
      "source": [
        "len(df)"
      ],
      "metadata": {
        "colab": {
          "base_uri": "https://localhost:8080/"
        },
        "id": "NrR6Mqj3N_FB",
        "outputId": "5a585a46-c975-42bf-face-efff91a0c1b7"
      },
      "id": "NrR6Mqj3N_FB",
      "execution_count": 102,
      "outputs": [
        {
          "output_type": "execute_result",
          "data": {
            "text/plain": [
              "10000"
            ]
          },
          "metadata": {},
          "execution_count": 102
        }
      ]
    },
    {
      "cell_type": "code",
      "source": [
        "data = np.loadtxt(\"/content/sample_data/data.csv\", delimiter=\",\")\n",
        "labels = np.loadtxt(\"/content/sample_data/label.csv\", delimiter=\",\", dtype=int)"
      ],
      "metadata": {
        "id": "GdNZXNklU0pH"
      },
      "id": "GdNZXNklU0pH",
      "execution_count": 103,
      "outputs": []
    },
    {
      "cell_type": "code",
      "source": [
        "import numpy as np\n",
        "from collections import Counter\n",
        "def euclidean_distance(a, b):\n",
        "    return np.sqrt(np.sum((a - b) ** 2))\n",
        "\n",
        "def cosine_distance(a, b):\n",
        "    return 1 - (np.dot(a, b) / (np.linalg.norm(a) * np.linalg.norm(b)))\n",
        "\n",
        "def jaccard_distance(a, b):\n",
        "    intersection = np.sum(np.minimum(a, b))\n",
        "    union = np.sum(np.maximum(a, b))\n",
        "    return 1 - intersection / union\n",
        "\n",
        "\n",
        "def compute_sse(X, clusters, centroids):\n",
        "    sse = 0\n",
        "    for cluster_idx, cluster in enumerate(clusters):\n",
        "        for point_idx in cluster:\n",
        "            sse += euclidean_distance(X[point_idx], centroids[cluster_idx]) ** 2\n",
        "    return sse\n",
        "def majority_vote(labels, clusters):\n",
        "    cluster_labels = []\n",
        "    for cluster in clusters:\n",
        "        if cluster:\n",
        "            cluster_label = Counter(labels[cluster]).most_common(1)[0][0]\n",
        "        else:\n",
        "            cluster_label = -1\n",
        "        cluster_labels.append(cluster_label)\n",
        "    return cluster_labels\n",
        "\n",
        "def compute_accuracy(labels, clusters, cluster_labels):\n",
        "    correct = 0\n",
        "    total = 0\n",
        "    for cluster_idx, cluster in enumerate(clusters):\n",
        "        for point_idx in cluster:\n",
        "            if labels[point_idx] == cluster_labels[cluster_idx]:\n",
        "                correct += 1\n",
        "            total += 1\n",
        "    return correct / total\n",
        "\n",
        "\n",
        "def kmeans_clustering(X, k, distance_fn, max_iters=500):\n",
        "    np.random.seed(1610)\n",
        "    centroids = X[np.random.choice(X.shape[0], k, replace=False)]\n",
        "    iteration_count = 0\n",
        "    for iteration in range(max_iters):\n",
        "        iteration_count += 1\n",
        "\n",
        "        clusters = [[] for _ in range(k)]\n",
        "        for idx, point in enumerate(X):\n",
        "            distances = [distance_fn(point, centroid) for centroid in centroids]\n",
        "            cluster_idx = np.argmin(distances)\n",
        "            clusters[cluster_idx].append(idx)\n",
        "\n",
        "\n",
        "        new_centroids = []\n",
        "        for cluster in clusters:\n",
        "            if cluster:\n",
        "                new_centroids.append(np.mean(X[cluster], axis=0))\n",
        "            else:\n",
        "                new_centroids.append(centroids[np.random.choice(range(k))])\n",
        "        new_centroids = np.array(new_centroids)\n",
        "\n",
        "        # Step 3: Check for centroid change\n",
        "        centroid_shift = np.sum([euclidean_distance(old, new) for old, new in zip(centroids, new_centroids)])\n",
        "        if centroid_shift ==0:\n",
        "            print(\"Stopping condition - Centroids did not change\")\n",
        "            break\n",
        "\n",
        "        #SSE Increases condition....\n",
        "\n",
        "\n",
        "\n",
        "        centroids = new_centroids\n",
        "    return clusters, centroids, iteration_count\n",
        "\n",
        "\n"
      ],
      "metadata": {
        "id": "vmSwVgynXFHy"
      },
      "id": "vmSwVgynXFHy",
      "execution_count": 104,
      "outputs": []
    },
    {
      "cell_type": "code",
      "source": [],
      "metadata": {
        "id": "KImGbnURp6Lq"
      },
      "id": "KImGbnURp6Lq",
      "execution_count": 104,
      "outputs": []
    },
    {
      "cell_type": "code",
      "source": [
        "print(\"Euclidean\")\n",
        "\n",
        "import time\n",
        "start_time = time.time()\n",
        "clusters, centroids,iteration_count = kmeans_clustering(data, 10,euclidean_distance,max_iters = 500)\n",
        "end_time = time.time()\n",
        "\n",
        "sse = compute_sse(data, clusters, centroids)\n",
        "cluster_labels = majority_vote(labels, clusters)\n",
        "accuracy = compute_accuracy(labels, clusters, cluster_labels)\n",
        "\n",
        "\n",
        "print(\"SSE - \" + str(sse))\n",
        "print(\"Accuracy - \" + str(accuracy))\n",
        "print(\"Iterations - \" + str(iteration_count))\n",
        "print(f\"Execution time: {end_time - start_time} seconds\")"
      ],
      "metadata": {
        "colab": {
          "base_uri": "https://localhost:8080/"
        },
        "id": "yQKyV3m9mLLU",
        "outputId": "d1489927-c06d-491b-a6b1-266cfe988765"
      },
      "id": "yQKyV3m9mLLU",
      "execution_count": 105,
      "outputs": [
        {
          "output_type": "stream",
          "name": "stdout",
          "text": [
            "Euclidean\n",
            "Stopping condition - Centroids did not change\n",
            "SSE - 25323777737.597675\n",
            "Accuracy - 0.6007\n",
            "Iterations - 53\n",
            "Execution time: 56.31632447242737 seconds\n"
          ]
        }
      ]
    },
    {
      "cell_type": "code",
      "source": [
        "print(\"Cosine\")\n",
        "import time\n",
        "start_time = time.time()\n",
        "clusters, centroids,iteration_count = kmeans_clustering(data, 10,cosine_distance)\n",
        "end_time = time.time()\n",
        "\n",
        "sse = compute_sse(data, clusters, centroids)\n",
        "cluster_labels = majority_vote(labels, clusters)\n",
        "accuracy = compute_accuracy(labels, clusters, cluster_labels)\n",
        "\n",
        "print(\"SSE - \" + str(sse))\n",
        "print(\"Accuracy - \" + str(accuracy))\n",
        "print(\"Iterations - \" + str(iteration_count))\n",
        "print(f\"Execution time: {end_time - start_time} seconds\")"
      ],
      "metadata": {
        "colab": {
          "base_uri": "https://localhost:8080/"
        },
        "id": "xiRV2kT3oCQ7",
        "outputId": "87da3b45-b37d-496b-970e-dff685f50d1f"
      },
      "id": "xiRV2kT3oCQ7",
      "execution_count": 106,
      "outputs": [
        {
          "output_type": "stream",
          "name": "stdout",
          "text": [
            "Cosine\n",
            "Stopping condition - Centroids did not change\n",
            "SSE - 25424327930.63329\n",
            "Accuracy - 0.6255\n",
            "Iterations - 40\n",
            "Execution time: 47.21819281578064 seconds\n"
          ]
        }
      ]
    },
    {
      "cell_type": "code",
      "source": [
        "print(\"Jaccard\")\n",
        "\n",
        "import time\n",
        "start_time = time.time()\n",
        "clusters, centroids,iteration_count = kmeans_clustering(data, 10,jaccard_distance)\n",
        "end_time = time.time()\n",
        "sse = compute_sse(data, clusters, centroids)\n",
        "cluster_labels = majority_vote(labels, clusters)\n",
        "accuracy = compute_accuracy(labels, clusters, cluster_labels)\n",
        "\n",
        "print(\"SSE - \" + str(sse))\n",
        "print(\"Accuracy - \" + str(accuracy))\n",
        "print(\"Iterations - \" + str(iteration_count))\n",
        "print(f\"Execution time: {end_time - start_time} seconds\")"
      ],
      "metadata": {
        "colab": {
          "base_uri": "https://localhost:8080/"
        },
        "id": "fO2Y2W3UoCFK",
        "outputId": "303a410d-ba43-48ca-b2d5-e8d4919ec882"
      },
      "id": "fO2Y2W3UoCFK",
      "execution_count": 107,
      "outputs": [
        {
          "output_type": "stream",
          "name": "stdout",
          "text": [
            "Jaccard\n",
            "Stopping condition - Centroids did not change\n",
            "SSE - 25415865327.66889\n",
            "Accuracy - 0.6038\n",
            "Iterations - 49\n",
            "Execution time: 79.6962366104126 seconds\n"
          ]
        }
      ]
    },
    {
      "cell_type": "code",
      "source": [
        "# All 3 conditions set\n",
        "\n",
        "\n",
        "\n",
        "def kmeans_clustering(X, k, distance_fn, max_iters=500):\n",
        "    np.random.seed(1610)\n",
        "    centroids = X[np.random.choice(X.shape[0], k, replace=False)]  # Initialize centroids\n",
        "    iteration_count = 0\n",
        "    prev_sse=float('inf')\n",
        "    for iteration in range(max_iters):\n",
        "        iteration_count += 1\n",
        "\n",
        "        clusters = [[] for _ in range(k)]\n",
        "        for idx, point in enumerate(X):\n",
        "            distances = [distance_fn(point, centroid) for centroid in centroids]\n",
        "            cluster_idx = np.argmin(distances)\n",
        "            clusters[cluster_idx].append(idx)\n",
        "\n",
        "\n",
        "        new_centroids = []\n",
        "        for cluster in clusters:\n",
        "            if cluster:\n",
        "                new_centroids.append(np.mean(X[cluster], axis=0))\n",
        "            else:\n",
        "                new_centroids.append(centroids[np.random.choice(range(k))])\n",
        "        new_centroids = np.array(new_centroids)\n",
        "\n",
        "        # Step 3: Check for centroid change\n",
        "        centroid_shift = np.sum([euclidean_distance(old, new) for old, new in zip(centroids, new_centroids)])\n",
        "        if centroid_shift ==0:\n",
        "            print(\"Stopping condition - Centroids did not change\")\n",
        "            break\n",
        "\n",
        "        #SSE Increases condition....\n",
        "        sse = compute_sse(X, clusters, new_centroids)\n",
        "        if sse > prev_sse:\n",
        "            print(f\"Stopping condition - SSE Increased.\")\n",
        "            break  # Stop if SSE increases\n",
        "        prev_sse = sse\n",
        "\n",
        "\n",
        "        centroids = new_centroids\n",
        "    return clusters, centroids, iteration_count"
      ],
      "metadata": {
        "id": "1mNLJsIGXFBZ"
      },
      "id": "1mNLJsIGXFBZ",
      "execution_count": 108,
      "outputs": []
    },
    {
      "cell_type": "code",
      "source": [
        "print(\"Euclidean\")\n",
        "\n",
        "import time\n",
        "start_time = time.time()\n",
        "clusters, centroids,iteration_count = kmeans_clustering(data, 10,euclidean_distance,max_iters = 500)\n",
        "end_time = time.time()\n",
        "\n",
        "sse = compute_sse(data, clusters, centroids)\n",
        "cluster_labels = majority_vote(labels, clusters)\n",
        "accuracy = compute_accuracy(labels, clusters, cluster_labels)\n",
        "\n",
        "\n",
        "print(\"SSE - \" + str(sse))\n",
        "print(\"Accuracy - \" + str(accuracy))\n",
        "print(\"Iterations - \" + str(iteration_count))\n",
        "print(f\"Execution time: {end_time - start_time} seconds\")"
      ],
      "metadata": {
        "colab": {
          "base_uri": "https://localhost:8080/"
        },
        "id": "2XXw3ruGrcDP",
        "outputId": "b3577939-b66d-422d-fbc5-b3b018063fad"
      },
      "id": "2XXw3ruGrcDP",
      "execution_count": 109,
      "outputs": [
        {
          "output_type": "stream",
          "name": "stdout",
          "text": [
            "Euclidean\n",
            "Stopping condition - Centroids did not change\n",
            "SSE - 25323777737.597675\n",
            "Accuracy - 0.6007\n",
            "Iterations - 53\n",
            "Execution time: 61.604583501815796 seconds\n"
          ]
        }
      ]
    },
    {
      "cell_type": "code",
      "source": [
        "print(\"Cosine\")\n",
        "\n",
        "import time\n",
        "start_time = time.time()\n",
        "clusters, centroids,iteration_count = kmeans_clustering(data, 10,cosine_distance,max_iters = 500)\n",
        "end_time = time.time()\n",
        "sse = compute_sse(data, clusters, centroids)\n",
        "cluster_labels = majority_vote(labels, clusters)\n",
        "accuracy = compute_accuracy(labels, clusters, cluster_labels)\n",
        "\n",
        "\n",
        "print(\"SSE - \" + str(sse))\n",
        "print(\"Accuracy - \" + str(accuracy))\n",
        "print(\"Iterations - \" + str(iteration_count))\n",
        "print(f\"Execution time: {end_time - start_time} seconds\")"
      ],
      "metadata": {
        "colab": {
          "base_uri": "https://localhost:8080/"
        },
        "id": "mTPibAbwrgxl",
        "outputId": "8b436b34-747a-480d-d3f9-25843f46374a"
      },
      "id": "mTPibAbwrgxl",
      "execution_count": 110,
      "outputs": [
        {
          "output_type": "stream",
          "name": "stdout",
          "text": [
            "Cosine\n",
            "Stopping condition - SSE Increased.\n",
            "SSE - 25425245706.696083\n",
            "Accuracy - 0.6258\n",
            "Iterations - 30\n",
            "Execution time: 37.08885169029236 seconds\n"
          ]
        }
      ]
    },
    {
      "cell_type": "code",
      "source": [
        "print(\"Jaccard\")\n",
        "\n",
        "import time\n",
        "start_time = time.time()\n",
        "clusters, centroids,iteration_count = kmeans_clustering(data, 10,jaccard_distance, max_iters = 500)\n",
        "end_time = time.time()\n",
        "sse = compute_sse(data, clusters, centroids)\n",
        "cluster_labels = majority_vote(labels, clusters)\n",
        "accuracy = compute_accuracy(labels, clusters, cluster_labels)\n",
        "\n",
        "\n",
        "print(\"SSE - \" + str(sse))\n",
        "print(\"Accuracy - \" + str(accuracy))\n",
        "print(\"Iterations - \" + str(iteration_count))\n",
        "print(f\"Execution time: {end_time - start_time} seconds\")"
      ],
      "metadata": {
        "colab": {
          "base_uri": "https://localhost:8080/"
        },
        "id": "TrWoaAl6rjlo",
        "outputId": "c87cb68b-70aa-4f45-e42d-d424236df74e"
      },
      "id": "TrWoaAl6rjlo",
      "execution_count": 111,
      "outputs": [
        {
          "output_type": "stream",
          "name": "stdout",
          "text": [
            "Jaccard\n",
            "Stopping condition - SSE Increased.\n",
            "SSE - 25414233334.496742\n",
            "Accuracy - 0.6056\n",
            "Iterations - 37\n",
            "Execution time: 64.09144186973572 seconds\n"
          ]
        }
      ]
    },
    {
      "cell_type": "code",
      "source": [
        "# TRYING DIFFERENT CONDITIONS"
      ],
      "metadata": {
        "id": "dTqzD-q0rmk_"
      },
      "id": "dTqzD-q0rmk_",
      "execution_count": 112,
      "outputs": []
    },
    {
      "cell_type": "code",
      "source": [
        "# ONLY CENTROID SHIFT  = Question 1"
      ],
      "metadata": {
        "id": "4xQ_FKDquUDI"
      },
      "id": "4xQ_FKDquUDI",
      "execution_count": 113,
      "outputs": []
    },
    {
      "cell_type": "code",
      "source": [
        "#ONLY SSE\n",
        "\n",
        "def kmeans_clustering(X, k, distance_fn, max_iters=500):\n",
        "    np.random.seed(1610)\n",
        "    centroids = X[np.random.choice(X.shape[0], k, replace=False)]\n",
        "    iteration_count = 0\n",
        "    prev_sse=float('inf')\n",
        "    for iteration in range(max_iters):\n",
        "        iteration_count += 1\n",
        "\n",
        "        clusters = [[] for _ in range(k)]\n",
        "        for idx, point in enumerate(X):\n",
        "            distances = [distance_fn(point, centroid) for centroid in centroids]\n",
        "            cluster_idx = np.argmin(distances)\n",
        "            clusters[cluster_idx].append(idx)\n",
        "\n",
        "\n",
        "        new_centroids = []\n",
        "        for cluster in clusters:\n",
        "            if cluster:\n",
        "                new_centroids.append(np.mean(X[cluster], axis=0))\n",
        "            else:\n",
        "                new_centroids.append(centroids[np.random.choice(range(k))])\n",
        "        new_centroids = np.array(new_centroids)\n",
        "\n",
        "        # # Step 3: Check for centroi change\n",
        "        # centroid_shift = np.sum([euclidean_distance(old, new) for old, new in zip(centroids, new_centroids)])\n",
        "        # if centroid_shift ==0:\n",
        "        #     print(\"Stopping condition - Centroids did not change\")\n",
        "        #     break\n",
        "\n",
        "        #SSE Increases condition....\n",
        "        sse = compute_sse(X, clusters, new_centroids)\n",
        "        if sse > prev_sse:\n",
        "            print(f\"Stopping condition - SSE Increased.\")\n",
        "            break  # Stop if SSE increases\n",
        "        prev_sse = sse\n",
        "\n",
        "\n",
        "        centroids = new_centroids\n",
        "    return clusters, centroids, iteration_count"
      ],
      "metadata": {
        "id": "F_d2GXh1uoyt"
      },
      "id": "F_d2GXh1uoyt",
      "execution_count": 114,
      "outputs": []
    },
    {
      "cell_type": "code",
      "source": [
        "print(\"Euclidean\")\n",
        "\n",
        "import time\n",
        "start_time = time.time()\n",
        "clusters, centroids,iteration_count = kmeans_clustering(data, 10,euclidean_distance)\n",
        "end_time = time.time()\n",
        "\n",
        "sse = compute_sse(data, clusters, centroids)\n",
        "cluster_labels = majority_vote(labels, clusters)\n",
        "accuracy = compute_accuracy(labels, clusters, cluster_labels)\n",
        "\n",
        "print(\"SSE - \" + str(sse))\n",
        "print(\"Accuracy - \" + str(accuracy))\n",
        "print(\"Iterations - \" + str(iteration_count))\n",
        "print(f\"Execution time: {end_time - start_time} seconds\")"
      ],
      "metadata": {
        "colab": {
          "base_uri": "https://localhost:8080/"
        },
        "id": "DNGcNy3ruuwE",
        "outputId": "e8f88fdc-c2f0-400f-a47e-19c9fe36b0cf"
      },
      "id": "DNGcNy3ruuwE",
      "execution_count": 115,
      "outputs": [
        {
          "output_type": "stream",
          "name": "stdout",
          "text": [
            "Euclidean\n",
            "SSE - 25323777737.597675\n",
            "Accuracy - 0.6007\n",
            "Iterations - 500\n",
            "Execution time: 577.346396446228 seconds\n"
          ]
        }
      ]
    },
    {
      "cell_type": "code",
      "source": [
        "print(\"Cosine\")\n",
        "\n",
        "import time\n",
        "start_time = time.time()\n",
        "clusters, centroids,iteration_count = kmeans_clustering(data, 10,cosine_distance)\n",
        "end_time = time.time()\n",
        "\n",
        "sse = compute_sse(data, clusters, centroids)\n",
        "cluster_labels = majority_vote(labels, clusters)\n",
        "accuracy = compute_accuracy(labels, clusters, cluster_labels)\n",
        "\n",
        "print(\"SSE - \" + str(sse))\n",
        "print(\"Accuracy - \" + str(accuracy))\n",
        "print(\"Iterations - \" + str(iteration_count))\n",
        "print(f\"Execution time: {end_time - start_time} seconds\")"
      ],
      "metadata": {
        "colab": {
          "base_uri": "https://localhost:8080/"
        },
        "id": "XhCgjcbDuyB6",
        "outputId": "62b8ef2f-029d-4bd0-9a20-b9fa9f16f1be"
      },
      "id": "XhCgjcbDuyB6",
      "execution_count": 116,
      "outputs": [
        {
          "output_type": "stream",
          "name": "stdout",
          "text": [
            "Cosine\n",
            "Stopping condition - SSE Increased.\n",
            "SSE - 25425245706.696083\n",
            "Accuracy - 0.6258\n",
            "Iterations - 30\n",
            "Execution time: 38.05190443992615 seconds\n"
          ]
        }
      ]
    },
    {
      "cell_type": "code",
      "source": [
        "print(\"Jaccard\")\n",
        "\n",
        "import time\n",
        "start_time = time.time()\n",
        "clusters, centroids,iteration_count = kmeans_clustering(data, 10,jaccard_distance )\n",
        "end_time = time.time()\n",
        "\n",
        "sse = compute_sse(data, clusters, centroids)\n",
        "cluster_labels = majority_vote(labels, clusters)\n",
        "accuracy = compute_accuracy(labels, clusters, cluster_labels)\n",
        "\n",
        "print(\"SSE - \" + str(sse))\n",
        "print(\"Accuracy - \" + str(accuracy))\n",
        "print(\"Iterations - \" + str(iteration_count))\n",
        "print(f\"Execution time: {end_time - start_time} seconds\")"
      ],
      "metadata": {
        "colab": {
          "base_uri": "https://localhost:8080/"
        },
        "id": "jqUCKC7ru0XW",
        "outputId": "59d47dbd-6ece-4b17-90f2-42f6638c00fd"
      },
      "id": "jqUCKC7ru0XW",
      "execution_count": 117,
      "outputs": [
        {
          "output_type": "stream",
          "name": "stdout",
          "text": [
            "Jaccard\n",
            "Stopping condition - SSE Increased.\n",
            "SSE - 25414233334.496742\n",
            "Accuracy - 0.6056\n",
            "Iterations - 37\n",
            "Execution time: 64.48653984069824 seconds\n"
          ]
        }
      ]
    },
    {
      "cell_type": "code",
      "source": [
        "#ONLY MAX_ITER\n",
        "\n",
        "#ONLY SSE\n",
        "\n",
        "def kmeans_clustering(X, k, distance_fn, max_iters=500):\n",
        "    np.random.seed(1610)\n",
        "    centroids = X[np.random.choice(X.shape[0], k, replace=False)]\n",
        "    iteration_count = 0\n",
        "    prev_sse=float('inf')\n",
        "    for iteration in range(max_iters):\n",
        "        iteration_count += 1\n",
        "\n",
        "        clusters = [[] for _ in range(k)]\n",
        "        for idx, point in enumerate(X):\n",
        "            distances = [distance_fn(point, centroid) for centroid in centroids]\n",
        "            cluster_idx = np.argmin(distances)\n",
        "            clusters[cluster_idx].append(idx)\n",
        "\n",
        "\n",
        "        new_centroids = []\n",
        "        for cluster in clusters:\n",
        "            if cluster:\n",
        "                new_centroids.append(np.mean(X[cluster], axis=0))\n",
        "            else:\n",
        "                new_centroids.append(centroids[np.random.choice(range(k))])\n",
        "        new_centroids = np.array(new_centroids)\n",
        "\n",
        "        # # Step 3: Check for centroid change\n",
        "        # centroid_shift = np.sum([euclidean_distance(old, new) for old, new in zip(centroids, new_centroids)])\n",
        "        # if centroid_shift ==0:\n",
        "        #     print(\"Stopping condition - Centroids did not change\")\n",
        "        #     break\n",
        "\n",
        "        # #SSE Increases condition....\n",
        "        # sse = compute_sse(X, clusters, new_centroids)\n",
        "        # if sse > prev_sse:\n",
        "        #     print(f\"Stopping condition - SSE Increased.\")\n",
        "        #     break  # Stop if SSE increases\n",
        "        # prev_sse = sse\n",
        "\n",
        "\n",
        "        centroids = new_centroids\n",
        "    return clusters, centroids, iteration_count"
      ],
      "metadata": {
        "id": "XrsU4N5Vu2t_"
      },
      "id": "XrsU4N5Vu2t_",
      "execution_count": 118,
      "outputs": []
    },
    {
      "cell_type": "code",
      "source": [
        "print(\"Euclidean\")\n",
        "import time\n",
        "start_time = time.time()\n",
        "clusters, centroids,iteration_count = kmeans_clustering(data, 10,euclidean_distance,max_iters = 100)\n",
        "end_time = time.time()\n",
        "sse = compute_sse(data, clusters, centroids)\n",
        "cluster_labels = majority_vote(labels, clusters)\n",
        "accuracy = compute_accuracy(labels, clusters, cluster_labels)\n",
        "\n",
        "print(\"SSE - \" + str(sse))\n",
        "print(\"Accuracy - \" + str(accuracy))\n",
        "print(\"Iterations - \" + str(iteration_count))\n",
        "print(f\"Execution time: {end_time - start_time} seconds\")"
      ],
      "metadata": {
        "colab": {
          "base_uri": "https://localhost:8080/"
        },
        "id": "Ky2DJ_iou-_0",
        "outputId": "931cf6a2-1b4a-47b6-96aa-ac081d115bd1"
      },
      "id": "Ky2DJ_iou-_0",
      "execution_count": 119,
      "outputs": [
        {
          "output_type": "stream",
          "name": "stdout",
          "text": [
            "Euclidean\n",
            "SSE - 25323777737.597675\n",
            "Accuracy - 0.6007\n",
            "Iterations - 100\n",
            "Execution time: 105.45609998703003 seconds\n"
          ]
        }
      ]
    },
    {
      "cell_type": "code",
      "source": [
        "print(\"Cosine\")\n",
        "\n",
        "import time\n",
        "start_time = time.time()\n",
        "clusters, centroids,iteration_count = kmeans_clustering(data, 10,cosine_distance,max_iters = 100)\n",
        "end_time = time.time()\n",
        "sse = compute_sse(data, clusters, centroids)\n",
        "cluster_labels = majority_vote(labels, clusters)\n",
        "accuracy = compute_accuracy(labels, clusters, cluster_labels)\n",
        "\n",
        "\n",
        "print(\"SSE - \" + str(sse))\n",
        "print(\"Accuracy - \" + str(accuracy))\n",
        "print(\"Iterations - \" + str(iteration_count))\n",
        "print(f\"Execution time: {end_time - start_time} seconds\")"
      ],
      "metadata": {
        "colab": {
          "base_uri": "https://localhost:8080/"
        },
        "id": "5aMf-uPOvF0h",
        "outputId": "0560fa08-47af-49f1-fc24-b6eaed0f8964"
      },
      "id": "5aMf-uPOvF0h",
      "execution_count": 120,
      "outputs": [
        {
          "output_type": "stream",
          "name": "stdout",
          "text": [
            "Cosine\n",
            "SSE - 25424327930.63329\n",
            "Accuracy - 0.6255\n",
            "Iterations - 100\n",
            "Execution time: 113.68580102920532 seconds\n"
          ]
        }
      ]
    },
    {
      "cell_type": "code",
      "source": [
        "print(\"Jaccard\")\n",
        "\n",
        "import time\n",
        "start_time = time.time()\n",
        "clusters, centroids,iteration_count = kmeans_clustering(data, 10,jaccard_distance, max_iters = 100)\n",
        "end_time = time.time()\n",
        "sse = compute_sse(data, clusters, centroids)\n",
        "cluster_labels = majority_vote(labels, clusters)\n",
        "accuracy = compute_accuracy(labels, clusters, cluster_labels)\n",
        "\n",
        "print(\"SSE - \" + str(sse))\n",
        "print(\"Accuracy - \" + str(accuracy))\n",
        "print(\"Iterations - \" + str(iteration_count))\n",
        "print(f\"Execution time: {end_time - start_time} seconds\")"
      ],
      "metadata": {
        "colab": {
          "base_uri": "https://localhost:8080/"
        },
        "id": "sQF-FxaHvI4n",
        "outputId": "bef65a94-5457-4777-9fdf-a24d6aeb2f00"
      },
      "id": "sQF-FxaHvI4n",
      "execution_count": 121,
      "outputs": [
        {
          "output_type": "stream",
          "name": "stdout",
          "text": [
            "Jaccard\n",
            "SSE - 25415865327.66889\n",
            "Accuracy - 0.6038\n",
            "Iterations - 100\n",
            "Execution time: 163.17057156562805 seconds\n"
          ]
        }
      ]
    },
    {
      "cell_type": "code",
      "source": [],
      "metadata": {
        "id": "OlbNuYCEvOet"
      },
      "id": "OlbNuYCEvOet",
      "execution_count": 121,
      "outputs": []
    }
  ],
  "metadata": {
    "kernelspec": {
      "display_name": "Python 3 (ipykernel)",
      "language": "python",
      "name": "python3"
    },
    "language_info": {
      "codemirror_mode": {
        "name": "ipython",
        "version": 3
      },
      "file_extension": ".py",
      "mimetype": "text/x-python",
      "name": "python",
      "nbconvert_exporter": "python",
      "pygments_lexer": "ipython3",
      "version": "3.12.4"
    },
    "colab": {
      "provenance": [],
      "include_colab_link": true
    }
  },
  "nbformat": 4,
  "nbformat_minor": 5
}